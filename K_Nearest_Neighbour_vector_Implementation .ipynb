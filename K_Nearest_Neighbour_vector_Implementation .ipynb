{
 "cells": [
  {
   "cell_type": "markdown",
   "metadata": {},
   "source": [
    "# K- Nearest Neighbour\n",
    "\n",
    "### A Simply vector implimentation using numpy random array"
   ]
  },
  {
   "cell_type": "code",
   "execution_count": 1,
   "metadata": {},
   "outputs": [],
   "source": [
    "# numpy for numerical calculations and matplotlib for ploting \n",
    "\n",
    "import numpy as np\n",
    "import matplotlib.pyplot as plt\n",
    "import seaborn; seaborn.set() # for visually enhancing the matplotlib plots\n"
   ]
  },
  {
   "cell_type": "code",
   "execution_count": 2,
   "metadata": {},
   "outputs": [
    {
     "data": {
      "text/plain": [
       "(6, 2)"
      ]
     },
     "execution_count": 2,
     "metadata": {},
     "output_type": "execute_result"
    }
   ],
   "source": [
    "# 'X' is random array of point. we will find the 'k' nearest Neighbours for all the points in 'X'.\n",
    "\n",
    "x = np.random.randint(0,100,[6,2])\n",
    "x.shape"
   ]
  },
  {
   "cell_type": "code",
   "execution_count": 3,
   "metadata": {},
   "outputs": [
    {
     "data": {
      "text/plain": [
       "array([[80, 66],\n",
       "       [ 5, 52],\n",
       "       [34, 98],\n",
       "       [54, 26],\n",
       "       [81, 56],\n",
       "       [86, 83]])"
      ]
     },
     "execution_count": 3,
     "metadata": {},
     "output_type": "execute_result"
    }
   ],
   "source": [
    "x"
   ]
  },
  {
   "cell_type": "code",
   "execution_count": 4,
   "metadata": {},
   "outputs": [
    {
     "data": {
      "text/plain": [
       "<matplotlib.collections.PathCollection at 0xd4ea770>"
      ]
     },
     "execution_count": 4,
     "metadata": {},
     "output_type": "execute_result"
    },
    {
     "data": {
      "image/png": "[encoded data removed]",
      "text/plain": [
       "<Figure size 432x288 with 1 Axes>"
      ]
     },
     "metadata": {},
     "output_type": "display_data"
    }
   ],
   "source": [
    "#ploting col 1 vs col 2\n",
    "\n",
    "plt.scatter(x[:,0],x[:,1], s = 100)"
   ]
  },
  {
   "cell_type": "code",
   "execution_count": 5,
   "metadata": {},
   "outputs": [
    {
     "data": {
      "text/plain": [
       "array([[[  0,   0],\n",
       "        [ 75,  14],\n",
       "        [ 46, -32],\n",
       "        [ 26,  40],\n",
       "        [ -1,  10],\n",
       "        [ -6, -17]],\n",
       "\n",
       "       [[-75, -14],\n",
       "        [  0,   0],\n",
       "        [-29, -46],\n",
       "        [-49,  26],\n",
       "        [-76,  -4],\n",
       "        [-81, -31]],\n",
       "\n",
       "       [[-46,  32],\n",
       "        [ 29,  46],\n",
       "        [  0,   0],\n",
       "        [-20,  72],\n",
       "        [-47,  42],\n",
       "        [-52,  15]],\n",
       "\n",
       "       [[-26, -40],\n",
       "        [ 49, -26],\n",
       "        [ 20, -72],\n",
       "        [  0,   0],\n",
       "        [-27, -30],\n",
       "        [-32, -57]],\n",
       "\n",
       "       [[  1, -10],\n",
       "        [ 76,   4],\n",
       "        [ 47, -42],\n",
       "        [ 27,  30],\n",
       "        [  0,   0],\n",
       "        [ -5, -27]],\n",
       "\n",
       "       [[  6,  17],\n",
       "        [ 81,  31],\n",
       "        [ 52, -15],\n",
       "        [ 32,  57],\n",
       "        [  5,  27],\n",
       "        [  0,   0]]])"
      ]
     },
     "execution_count": 5,
     "metadata": {},
     "output_type": "execute_result"
    }
   ],
   "source": [
    "#calulating the difference for each point from all the points\n",
    "\n",
    "difference = x[:,np.newaxis,:] - x[np.newaxis,:,:]\n",
    "difference"
   ]
  },
  {
   "cell_type": "code",
   "execution_count": 6,
   "metadata": {},
   "outputs": [
    {
     "data": {
      "text/plain": [
       "array([[[   0,    0],\n",
       "        [5625,  196],\n",
       "        [2116, 1024],\n",
       "        [ 676, 1600],\n",
       "        [   1,  100],\n",
       "        [  36,  289]],\n",
       "\n",
       "       [[5625,  196],\n",
       "        [   0,    0],\n",
       "        [ 841, 2116],\n",
       "        [2401,  676],\n",
       "        [5776,   16],\n",
       "        [6561,  961]],\n",
       "\n",
       "       [[2116, 1024],\n",
       "        [ 841, 2116],\n",
       "        [   0,    0],\n",
       "        [ 400, 5184],\n",
       "        [2209, 1764],\n",
       "        [2704,  225]],\n",
       "\n",
       "       [[ 676, 1600],\n",
       "        [2401,  676],\n",
       "        [ 400, 5184],\n",
       "        [   0,    0],\n",
       "        [ 729,  900],\n",
       "        [1024, 3249]],\n",
       "\n",
       "       [[   1,  100],\n",
       "        [5776,   16],\n",
       "        [2209, 1764],\n",
       "        [ 729,  900],\n",
       "        [   0,    0],\n",
       "        [  25,  729]],\n",
       "\n",
       "       [[  36,  289],\n",
       "        [6561,  961],\n",
       "        [2704,  225],\n",
       "        [1024, 3249],\n",
       "        [  25,  729],\n",
       "        [   0,    0]]], dtype=int32)"
      ]
     },
     "execution_count": 6,
     "metadata": {},
     "output_type": "execute_result"
    }
   ],
   "source": [
    "# squaring the difference to elimiate the -ve vlaues(vector to scalar)\n",
    "\n",
    "sqr_difference= difference ** 2\n",
    "sqr_difference"
   ]
  },
  {
   "cell_type": "code",
   "execution_count": 7,
   "metadata": {},
   "outputs": [
    {
     "data": {
      "text/plain": [
       "(6, 6, 2)"
      ]
     },
     "execution_count": 7,
     "metadata": {},
     "output_type": "execute_result"
    }
   ],
   "source": [
    "sqr_difference.shape"
   ]
  },
  {
   "cell_type": "code",
   "execution_count": 8,
   "metadata": {},
   "outputs": [
    {
     "data": {
      "text/plain": [
       "array([[   0, 5821, 3140, 2276,  101,  325],\n",
       "       [5821,    0, 2957, 3077, 5792, 7522],\n",
       "       [3140, 2957,    0, 5584, 3973, 2929],\n",
       "       [2276, 3077, 5584,    0, 1629, 4273],\n",
       "       [ 101, 5792, 3973, 1629,    0,  754],\n",
       "       [ 325, 7522, 2929, 4273,  754,    0]], dtype=int32)"
      ]
     },
     "execution_count": 8,
     "metadata": {},
     "output_type": "execute_result"
    }
   ],
   "source": [
    "# calculating the squared distance between all the points\n",
    "# Note that the axis '-1' instructs to calculate sum of elements in the 1st dimention\n",
    "\n",
    "dist = np.sum(sqr_difference, axis=-1)\n",
    "dist\n"
   ]
  },
  {
   "cell_type": "code",
   "execution_count": 9,
   "metadata": {},
   "outputs": [
    {
     "data": {
      "text/plain": [
       "(6, 6)"
      ]
     },
     "execution_count": 9,
     "metadata": {},
     "output_type": "execute_result"
    }
   ],
   "source": [
    "# shape of the squared distance. \n",
    "dist.shape\n",
    "\n"
   ]
  },
  {
   "cell_type": "code",
   "execution_count": 10,
   "metadata": {},
   "outputs": [
    {
     "data": {
      "text/plain": [
       "array([[0, 4, 5, 3, 2, 1],\n",
       "       [1, 2, 3, 4, 0, 5],\n",
       "       [2, 5, 1, 0, 4, 3],\n",
       "       [3, 4, 0, 1, 5, 2],\n",
       "       [4, 0, 5, 3, 2, 1],\n",
       "       [5, 0, 4, 2, 3, 1]], dtype=int32)"
      ]
     },
     "execution_count": 10,
     "metadata": {},
     "output_type": "execute_result"
    }
   ],
   "source": [
    "# argsort is performed along reach row of the dist array to sort by indices.\n",
    "# this operation sorts the whole array and hence this isn't the most efficent way of finding the k values.\n",
    "\n",
    "nearest = np.argsort(dist, axis=1)\n",
    "nearest"
   ]
  },
  {
   "cell_type": "code",
   "execution_count": 11,
   "metadata": {},
   "outputs": [
    {
     "data": {
      "text/plain": [
       "array([[4, 0, 5, 3, 2, 1],\n",
       "       [1, 2, 3, 4, 0, 5],\n",
       "       [2, 5, 1, 0, 4, 3],\n",
       "       [3, 4, 0, 1, 5, 2],\n",
       "       [4, 0, 5, 3, 2, 1],\n",
       "       [5, 0, 4, 2, 3, 1]], dtype=int32)"
      ]
     },
     "execution_count": 11,
     "metadata": {},
     "output_type": "execute_result"
    }
   ],
   "source": [
    "#the number of calculation can be minimized by using argpartition funcition on the dist array to find only the 'K' nearest values\n",
    "# let says we want to find the 2 nearest values to each point(k=2)\n",
    "k = 2\n",
    "k_nearest = np.argpartition(dist, k+1, axis=1)\n",
    "\n",
    "k_nearest"
   ]
  },
  {
   "cell_type": "code",
   "execution_count": 12,
   "metadata": {},
   "outputs": [
    {
     "data": {
      "image/png": "[encoded data removed]",
      "text/plain": [
       "<Figure size 432x288 with 1 Axes>"
      ]
     },
     "metadata": {},
     "output_type": "display_data"
    }
   ],
   "source": [
    "# ploting the lines indicating the k nearest points to a given point\n",
    "\n",
    "plt.scatter(x[:,0],x[:,1], s = 60)  # plots the points of 'X' (col 1 vs col2)\n",
    "for i in range(x.shape[0]):          # iterating over each point in 'x'\n",
    "    for j in k_nearest[i, :k+1]:     # index till K+1 points from the partitioned array (k_nearest) \n",
    "        plt.plot(*zip(x[j], x[i]), color='green') \n",
    "        \n",
    "        \n",
    "        "
   ]
  }
 ],
 "metadata": {
  "kernelspec": {
   "display_name": "Python 3",
   "language": "python",
   "name": "python3"
  },
  "language_info": {
   "codemirror_mode": {
    "name": "ipython",
    "version": 3
   },
   "file_extension": ".py",
   "mimetype": "text/x-python",
   "name": "python",
   "nbconvert_exporter": "python",
   "pygments_lexer": "ipython3",
   "version": "3.6.4"
  }
 },
 "nbformat": 4,
 "nbformat_minor": 2
}
